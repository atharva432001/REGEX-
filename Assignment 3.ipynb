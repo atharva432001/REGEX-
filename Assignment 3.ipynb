{
 "cells": [
  {
   "cell_type": "code",
   "execution_count": null,
   "metadata": {},
   "outputs": [],
   "source": [
    "# Write a function to return nth term of Fibonacci sequence. \n",
    "def fibo(n) :\n",
    "    if(n < 0) :\n",
    "        return(\"incorrect input\")\n",
    "    elif(n == 0):\n",
    "        return 0\n",
    "    elif(n == 2 or n == 1):\n",
    "        return 1\n",
    "    else : \n",
    "        return (fibo(n - 1) + fibo(n - 2))\n",
    "\n",
    "x = int(input(\"Enter a Number : \"))\n",
    "print(fibo(x))"
   ]
  },
  {
   "cell_type": "code",
   "execution_count": null,
   "metadata": {},
   "outputs": [],
   "source": [
    "# Write a function to find out GCD of two numbers using EUCLID'S algorithm. \n",
    "def GCD(a, b):\n",
    "    if b == 0:\n",
    "        return a\n",
    "    else:\n",
    "        return GCD(b, a % b)\n",
    "n1 = int(input(\"Enter first number: \"))\n",
    "n2 = int(input(\"Enter second number: \"))\n",
    "print(\"GCD: \", GCD(n1, n2))\n"
   ]
  },
  {
   "cell_type": "code",
   "execution_count": null,
   "metadata": {},
   "outputs": [],
   "source": [
    "# Write a function to find LCM of two number in most optimizers way. \n",
    "def lcm(n1, n2):\n",
    "    return (n1//GCD(n1, n2)) * n2\n",
    "n1 = int(input(\"Enter first number: \"))\n",
    "n2 = int(input(\"Enter second number: \"))\n",
    "print('Lcm of ', n1, \"and\", n2, ' :', lcm(n1, n2))"
   ]
  },
  {
   "cell_type": "code",
   "execution_count": null,
   "metadata": {},
   "outputs": [],
   "source": []
  }
 ],
 "metadata": {
  "kernelspec": {
   "display_name": "Python 3",
   "language": "python",
   "name": "python3"
  },
  "language_info": {
   "codemirror_mode": {
    "name": "ipython",
    "version": 3
   },
   "file_extension": ".py",
   "mimetype": "text/x-python",
   "name": "python",
   "nbconvert_exporter": "python",
   "pygments_lexer": "ipython3",
   "version": "3.8.5"
  }
 },
 "nbformat": 4,
 "nbformat_minor": 4
}
